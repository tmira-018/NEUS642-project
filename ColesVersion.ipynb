{
 "cells": [
  {
   "cell_type": "markdown",
   "id": "e5a41f48-d574-4ec5-bfa6-2bb5585f83d7",
   "metadata": {},
   "source": [
    "Links for pulling data: \n",
    "https://hearingbrain.org/tmp/Injury/01142022_Injury3.czi\n",
    "https://hearingbrain.org/tmp/Injury/01142022_Injury5.czi\n",
    "https://hearingbrain.org/tmp/InjuryRNAi/01142022NijARNAi_Injury1.czi\n",
    "https://hearingbrain.org/tmp/InjuryRNAi/01142022NijARNAi_Injury3.czi\n",
    "https://hearingbrain.org/tmp/NoInjury/01142022_NoInjury2.czi\n",
    "https://hearingbrain.org/tmp/NoInjury/01142022_NoInjury3.czi\n",
    "https://hearingbrain.org/tmp/NoInjuryRNAi/01142022NijARNAi_NoInjury1.czi\n",
    "https://hearingbrain.org/tmp/NoInjuryRNAi/01142022NijARNAi_NoInjury4.czi"
   ]
  },
  {
   "cell_type": "markdown",
   "id": "aae0d8e0-d281-4da1-a5b1-6f643e5213e1",
   "metadata": {},
   "source": [
    "How to create a Dataframe from a Dictionary"
   ]
  },
  {
   "cell_type": "code",
   "execution_count": 2,
   "id": "3a896d91-7586-483f-ae1f-5642ec17cefc",
   "metadata": {},
   "outputs": [
    {
     "ename": "NameError",
     "evalue": "name 'pd' is not defined",
     "output_type": "error",
     "traceback": [
      "\u001b[0;31m---------------------------------------------------------------------------\u001b[0m",
      "\u001b[0;31mNameError\u001b[0m                                 Traceback (most recent call last)",
      "\u001b[0;32m/var/folders/35/4d_r9ywx2v16xkdb8q2m3flw0000gn/T/ipykernel_50627/3500391416.py\u001b[0m in \u001b[0;36m<module>\u001b[0;34m\u001b[0m\n\u001b[1;32m      3\u001b[0m \u001b[0mdata_list\u001b[0m \u001b[0;34m=\u001b[0m \u001b[0mlist\u001b[0m\u001b[0;34m(\u001b[0m\u001b[0mdata_items\u001b[0m\u001b[0;34m)\u001b[0m\u001b[0;34m\u001b[0m\u001b[0;34m\u001b[0m\u001b[0m\n\u001b[1;32m      4\u001b[0m \u001b[0;34m\u001b[0m\u001b[0m\n\u001b[0;32m----> 5\u001b[0;31m \u001b[0mdf\u001b[0m \u001b[0;34m=\u001b[0m \u001b[0mpd\u001b[0m\u001b[0;34m.\u001b[0m\u001b[0mDataFrame\u001b[0m\u001b[0;34m(\u001b[0m\u001b[0mdata_list\u001b[0m\u001b[0;34m)\u001b[0m\u001b[0;34m\u001b[0m\u001b[0;34m\u001b[0m\u001b[0m\n\u001b[0m\u001b[1;32m      6\u001b[0m \u001b[0mprint\u001b[0m\u001b[0;34m(\u001b[0m\u001b[0mdf\u001b[0m\u001b[0;34m)\u001b[0m\u001b[0;34m\u001b[0m\u001b[0;34m\u001b[0m\u001b[0m\n\u001b[1;32m      7\u001b[0m \u001b[0;34m\u001b[0m\u001b[0m\n",
      "\u001b[0;31mNameError\u001b[0m: name 'pd' is not defined"
     ]
    }
   ],
   "source": [
    "data_dict = {\"a\": 1, \"b\": 2, \"c\": 3}\n",
    "data_items = data_dict.items()\n",
    "data_list = list(data_items)\n",
    "\n",
    "df = pd.DataFrame(data_list)\n",
    "print(df)\n",
    "\n",
    "#This is what the results would look like for this example \n",
    "OUTPUT\n",
    "   0  1\n",
    "0  a  1\n",
    "1  b  2\n",
    "2  c  3\n"
   ]
  },
  {
   "cell_type": "markdown",
   "id": "7448c1dd-5b62-4054-8c29-9433181a8d40",
   "metadata": {
    "tags": []
   },
   "source": [
    "ANOVA stuff for analysis"
   ]
  },
  {
   "cell_type": "code",
   "execution_count": 5,
   "id": "69f2f4ad-4d21-4929-8fee-d29af26297b2",
   "metadata": {},
   "outputs": [],
   "source": [
    "from scipy.stats import f_oneway\n",
    "\n"
   ]
  },
  {
   "cell_type": "code",
   "execution_count": 3,
   "id": "7ec3e02a-4b78-499d-86c1-75677dce7f1c",
   "metadata": {},
   "outputs": [
    {
     "ename": "ModuleNotFoundError",
     "evalue": "No module named 'researchpy'",
     "output_type": "error",
     "traceback": [
      "\u001b[0;31m---------------------------------------------------------------------------\u001b[0m",
      "\u001b[0;31mModuleNotFoundError\u001b[0m                       Traceback (most recent call last)",
      "\u001b[0;32m/var/folders/35/4d_r9ywx2v16xkdb8q2m3flw0000gn/T/ipykernel_89053/4174073134.py\u001b[0m in \u001b[0;36m<module>\u001b[0;34m\u001b[0m\n\u001b[1;32m      1\u001b[0m \u001b[0;32mimport\u001b[0m \u001b[0mpandas\u001b[0m \u001b[0;32mas\u001b[0m \u001b[0mpd\u001b[0m\u001b[0;34m\u001b[0m\u001b[0;34m\u001b[0m\u001b[0m\n\u001b[0;32m----> 2\u001b[0;31m \u001b[0;32mimport\u001b[0m \u001b[0mresearchpy\u001b[0m \u001b[0;32mas\u001b[0m \u001b[0mrp\u001b[0m\u001b[0;34m\u001b[0m\u001b[0;34m\u001b[0m\u001b[0m\n\u001b[0m",
      "\u001b[0;31mModuleNotFoundError\u001b[0m: No module named 'researchpy'"
     ]
    }
   ],
   "source": [
    "group1= (,)\n",
    "group2= (,)\n",
    "group3= (,)\n",
    "group4= (,)"
   ]
  },
  {
   "cell_type": "markdown",
   "id": "df912cdd-47f2-4553-aba0-f037ebc947e8",
   "metadata": {},
   "source": [
    "Example for bar graphs with multiple colors and labeled axis"
   ]
  },
  {
   "cell_type": "code",
   "execution_count": 1,
   "id": "e7d6b0a1-9ccf-426d-bed9-0523e7921b76",
   "metadata": {},
   "outputs": [
    {
     "data": {
      "image/png": "[encoded data removed]",
      "text/plain": [
       "<Figure size 432x288 with 1 Axes>"
      ]
     },
     "metadata": {
      "needs_background": "light"
     },
     "output_type": "display_data"
    }
   ],
   "source": [
    "import matplotlib.pyplot as plt\n",
    "   \n",
    "Country = ['USA','Canada','Germany','UK','France']\n",
    "GDP_Per_Capita = [45000,42000,52000,49000,47000]\n",
    "\n",
    "New_Colors = ['green','blue','purple','brown','teal']\n",
    "plt.bar(Country, GDP_Per_Capita, color=New_Colors)\n",
    "plt.title('Country Vs GDP Per Capita', fontsize=14)\n",
    "plt.xlabel('Country', fontsize=14)\n",
    "plt.ylabel('GDP Per Capita', fontsize=14)\n",
    "plt.grid(True)\n",
    "plt.show()"
   ]
  },
  {
   "cell_type": "code",
   "execution_count": 6,
   "id": "97865a90-94ba-47ba-a503-0d67d09e3175",
   "metadata": {},
   "outputs": [
    {
     "ename": "NameError",
     "evalue": "name 'group1' is not defined",
     "output_type": "error",
     "traceback": [
      "\u001b[0;31m---------------------------------------------------------------------------\u001b[0m",
      "\u001b[0;31mNameError\u001b[0m                                 Traceback (most recent call last)",
      "\u001b[0;32m/var/folders/35/4d_r9ywx2v16xkdb8q2m3flw0000gn/T/ipykernel_89053/3307650050.py\u001b[0m in \u001b[0;36m<module>\u001b[0;34m\u001b[0m\n\u001b[0;32m----> 1\u001b[0;31m \u001b[0mf_oneway\u001b[0m\u001b[0;34m(\u001b[0m\u001b[0mgroup1\u001b[0m\u001b[0;34m,\u001b[0m \u001b[0mgroup2\u001b[0m\u001b[0;34m,\u001b[0m \u001b[0mgroup3\u001b[0m\u001b[0;34m,\u001b[0m \u001b[0mgroup4\u001b[0m\u001b[0;34m)\u001b[0m\u001b[0;34m\u001b[0m\u001b[0;34m\u001b[0m\u001b[0m\n\u001b[0m",
      "\u001b[0;31mNameError\u001b[0m: name 'group1' is not defined"
     ]
    }
   ],
   "source": [
    "f_oneway(group1, group2, group3, group4)"
   ]
  },
  {
   "cell_type": "markdown",
   "id": "085a912d-2a4e-4318-bb76-3d596a931c27",
   "metadata": {},
   "source": [
    "Unpaired t-tests-- comparing between 2 specific groups"
   ]
  },
  {
   "cell_type": "code",
   "execution_count": null,
   "id": "a7820842-ede6-4273-842b-ccf9e7c99f09",
   "metadata": {},
   "outputs": [],
   "source": [
    "from scipy import stats as st\n",
    "from bioinfokit.analys import get_data\n",
    "#load dataset as pandas dataframe\n",
    "df = get_data('t_ind_samp').data\n",
    "df.head(2)\n",
    "\n",
    "# https://www.reneshbedre.com/blog/ttest.html for rest of example \n",
    "\n"
   ]
  },
  {
   "cell_type": "markdown",
   "id": "559345b3-c09c-4084-a7cf-692295124663",
   "metadata": {},
   "source": [
    "If ANOVA comes back as significant, then unpaired T-tests"
   ]
  },
  {
   "cell_type": "markdown",
   "id": "3f36dadb-63b7-430e-b3b9-d0c04770f875",
   "metadata": {},
   "source": [
    "https://pythonfordatascienceorg.wordpress.com/independent-t-test-python/"
   ]
  }
 ],
 "metadata": {
  "kernelspec": {
   "display_name": "Python 3 (ipykernel)",
   "language": "python",
   "name": "python3"
  },
  "language_info": {
   "codemirror_mode": {
    "name": "ipython",
    "version": 3
   },
   "file_extension": ".py",
   "mimetype": "text/x-python",
   "name": "python",
   "nbconvert_exporter": "python",
   "pygments_lexer": "ipython3",
   "version": "3.9.7"
  }
 },
 "nbformat": 4,
 "nbformat_minor": 5
}
