{
 "cells": [
  {
   "cell_type": "markdown",
   "id": "7448c1dd-5b62-4054-8c29-9433181a8d40",
   "metadata": {},
   "source": [
    "ANOVA stuff for analysis"
   ]
  },
  {
   "cell_type": "code",
   "execution_count": 5,
   "id": "69f2f4ad-4d21-4929-8fee-d29af26297b2",
   "metadata": {},
   "outputs": [],
   "source": [
    "from scipy.stats import f_oneway\n",
    "\n"
   ]
  },
  {
   "cell_type": "code",
   "execution_count": 3,
   "id": "7ec3e02a-4b78-499d-86c1-75677dce7f1c",
   "metadata": {},
   "outputs": [
    {
     "ename": "ModuleNotFoundError",
     "evalue": "No module named 'researchpy'",
     "output_type": "error",
     "traceback": [
      "\u001b[0;31m---------------------------------------------------------------------------\u001b[0m",
      "\u001b[0;31mModuleNotFoundError\u001b[0m                       Traceback (most recent call last)",
      "\u001b[0;32m/var/folders/35/4d_r9ywx2v16xkdb8q2m3flw0000gn/T/ipykernel_89053/4174073134.py\u001b[0m in \u001b[0;36m<module>\u001b[0;34m\u001b[0m\n\u001b[1;32m      1\u001b[0m \u001b[0;32mimport\u001b[0m \u001b[0mpandas\u001b[0m \u001b[0;32mas\u001b[0m \u001b[0mpd\u001b[0m\u001b[0;34m\u001b[0m\u001b[0;34m\u001b[0m\u001b[0m\n\u001b[0;32m----> 2\u001b[0;31m \u001b[0;32mimport\u001b[0m \u001b[0mresearchpy\u001b[0m \u001b[0;32mas\u001b[0m \u001b[0mrp\u001b[0m\u001b[0;34m\u001b[0m\u001b[0;34m\u001b[0m\u001b[0m\n\u001b[0m",
      "\u001b[0;31mModuleNotFoundError\u001b[0m: No module named 'researchpy'"
     ]
    }
   ],
   "source": [
    "group1= (,)\n",
    "group2= (,)\n",
    "group3= (,)\n",
    "group4= (,)"
   ]
  },
  {
   "cell_type": "code",
   "execution_count": 6,
   "id": "97865a90-94ba-47ba-a503-0d67d09e3175",
   "metadata": {},
   "outputs": [
    {
     "ename": "NameError",
     "evalue": "name 'group1' is not defined",
     "output_type": "error",
     "traceback": [
      "\u001b[0;31m---------------------------------------------------------------------------\u001b[0m",
      "\u001b[0;31mNameError\u001b[0m                                 Traceback (most recent call last)",
      "\u001b[0;32m/var/folders/35/4d_r9ywx2v16xkdb8q2m3flw0000gn/T/ipykernel_89053/3307650050.py\u001b[0m in \u001b[0;36m<module>\u001b[0;34m\u001b[0m\n\u001b[0;32m----> 1\u001b[0;31m \u001b[0mf_oneway\u001b[0m\u001b[0;34m(\u001b[0m\u001b[0mgroup1\u001b[0m\u001b[0;34m,\u001b[0m \u001b[0mgroup2\u001b[0m\u001b[0;34m,\u001b[0m \u001b[0mgroup3\u001b[0m\u001b[0;34m,\u001b[0m \u001b[0mgroup4\u001b[0m\u001b[0;34m)\u001b[0m\u001b[0;34m\u001b[0m\u001b[0;34m\u001b[0m\u001b[0m\n\u001b[0m",
      "\u001b[0;31mNameError\u001b[0m: name 'group1' is not defined"
     ]
    }
   ],
   "source": [
    "f_oneway(group1, group2, group3, group4)"
   ]
  },
  {
   "cell_type": "markdown",
   "id": "559345b3-c09c-4084-a7cf-692295124663",
   "metadata": {},
   "source": [
    "If ANOVA comes back as significant, then unpaired T-tests"
   ]
  },
  {
   "cell_type": "markdown",
   "id": "3f36dadb-63b7-430e-b3b9-d0c04770f875",
   "metadata": {},
   "source": [
    "https://pythonfordatascienceorg.wordpress.com/independent-t-test-python/"
   ]
  }
 ],
 "metadata": {
  "kernelspec": {
   "display_name": "Python 3 (ipykernel)",
   "language": "python",
   "name": "python3"
  },
  "language_info": {
   "codemirror_mode": {
    "name": "ipython",
    "version": 3
   },
   "file_extension": ".py",
   "mimetype": "text/x-python",
   "name": "python",
   "nbconvert_exporter": "python",
   "pygments_lexer": "ipython3",
   "version": "3.9.7"
  }
 },
 "nbformat": 4,
 "nbformat_minor": 5
}
